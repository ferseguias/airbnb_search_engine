{
 "cells": [
  {
   "cell_type": "code",
   "execution_count": 56,
   "metadata": {},
   "outputs": [],
   "source": [
    "import pandas as pd\n",
    "import geopandas as gpd\n",
    "import sidetable"
   ]
  },
  {
   "cell_type": "code",
   "execution_count": 41,
   "metadata": {},
   "outputs": [
    {
     "data": {
      "text/html": [
       "<div>\n",
       "<style scoped>\n",
       "    .dataframe tbody tr th:only-of-type {\n",
       "        vertical-align: middle;\n",
       "    }\n",
       "\n",
       "    .dataframe tbody tr th {\n",
       "        vertical-align: top;\n",
       "    }\n",
       "\n",
       "    .dataframe thead th {\n",
       "        text-align: right;\n",
       "    }\n",
       "</style>\n",
       "<table border=\"1\" class=\"dataframe\">\n",
       "  <thead>\n",
       "    <tr style=\"text-align: right;\">\n",
       "      <th></th>\n",
       "      <th>neighborhood</th>\n",
       "      <th>neighborhood_group</th>\n",
       "      <th>geometry</th>\n",
       "    </tr>\n",
       "  </thead>\n",
       "  <tbody>\n",
       "    <tr>\n",
       "      <th>0</th>\n",
       "      <td>Acacias</td>\n",
       "      <td>Arganzuela</td>\n",
       "      <td>MULTIPOLYGON (((-3.70379 40.40521, -3.70288 40...</td>\n",
       "    </tr>\n",
       "    <tr>\n",
       "      <th>1</th>\n",
       "      <td>Atocha</td>\n",
       "      <td>Arganzuela</td>\n",
       "      <td>MULTIPOLYGON (((-3.68878 40.40655, -3.68853 40...</td>\n",
       "    </tr>\n",
       "    <tr>\n",
       "      <th>2</th>\n",
       "      <td>Chopera</td>\n",
       "      <td>Arganzuela</td>\n",
       "      <td>MULTIPOLYGON (((-3.69502 40.39116, -3.69800 40...</td>\n",
       "    </tr>\n",
       "    <tr>\n",
       "      <th>3</th>\n",
       "      <td>Delicias</td>\n",
       "      <td>Arganzuela</td>\n",
       "      <td>MULTIPOLYGON (((-3.69608 40.40093, -3.69389 40...</td>\n",
       "    </tr>\n",
       "    <tr>\n",
       "      <th>4</th>\n",
       "      <td>Imperial</td>\n",
       "      <td>Arganzuela</td>\n",
       "      <td>MULTIPOLYGON (((-3.71427 40.40090, -3.71481 40...</td>\n",
       "    </tr>\n",
       "    <tr>\n",
       "      <th>...</th>\n",
       "      <td>...</td>\n",
       "      <td>...</td>\n",
       "      <td>...</td>\n",
       "    </tr>\n",
       "    <tr>\n",
       "      <th>123</th>\n",
       "      <td>Butarque</td>\n",
       "      <td>Villaverde</td>\n",
       "      <td>MULTIPOLYGON (((-3.65743 40.32930, -3.65747 40...</td>\n",
       "    </tr>\n",
       "    <tr>\n",
       "      <th>124</th>\n",
       "      <td>Los Angeles</td>\n",
       "      <td>Villaverde</td>\n",
       "      <td>MULTIPOLYGON (((-3.69391 40.36454, -3.69354 40...</td>\n",
       "    </tr>\n",
       "    <tr>\n",
       "      <th>125</th>\n",
       "      <td>Los Rosales</td>\n",
       "      <td>Villaverde</td>\n",
       "      <td>MULTIPOLYGON (((-3.69237 40.34593, -3.69288 40...</td>\n",
       "    </tr>\n",
       "    <tr>\n",
       "      <th>126</th>\n",
       "      <td>San Andrés</td>\n",
       "      <td>Villaverde</td>\n",
       "      <td>MULTIPOLYGON (((-3.69441 40.34567, -3.69402 40...</td>\n",
       "    </tr>\n",
       "    <tr>\n",
       "      <th>127</th>\n",
       "      <td>San Cristobal</td>\n",
       "      <td>Villaverde</td>\n",
       "      <td>MULTIPOLYGON (((-3.69169 40.33268, -3.69242 40...</td>\n",
       "    </tr>\n",
       "  </tbody>\n",
       "</table>\n",
       "<p>128 rows × 3 columns</p>\n",
       "</div>"
      ],
      "text/plain": [
       "      neighborhood neighborhood_group  \\\n",
       "0          Acacias         Arganzuela   \n",
       "1           Atocha         Arganzuela   \n",
       "2          Chopera         Arganzuela   \n",
       "3         Delicias         Arganzuela   \n",
       "4         Imperial         Arganzuela   \n",
       "..             ...                ...   \n",
       "123       Butarque         Villaverde   \n",
       "124    Los Angeles         Villaverde   \n",
       "125    Los Rosales         Villaverde   \n",
       "126     San Andrés         Villaverde   \n",
       "127  San Cristobal         Villaverde   \n",
       "\n",
       "                                              geometry  \n",
       "0    MULTIPOLYGON (((-3.70379 40.40521, -3.70288 40...  \n",
       "1    MULTIPOLYGON (((-3.68878 40.40655, -3.68853 40...  \n",
       "2    MULTIPOLYGON (((-3.69502 40.39116, -3.69800 40...  \n",
       "3    MULTIPOLYGON (((-3.69608 40.40093, -3.69389 40...  \n",
       "4    MULTIPOLYGON (((-3.71427 40.40090, -3.71481 40...  \n",
       "..                                                 ...  \n",
       "123  MULTIPOLYGON (((-3.65743 40.32930, -3.65747 40...  \n",
       "124  MULTIPOLYGON (((-3.69391 40.36454, -3.69354 40...  \n",
       "125  MULTIPOLYGON (((-3.69237 40.34593, -3.69288 40...  \n",
       "126  MULTIPOLYGON (((-3.69441 40.34567, -3.69402 40...  \n",
       "127  MULTIPOLYGON (((-3.69169 40.33268, -3.69242 40...  \n",
       "\n",
       "[128 rows x 3 columns]"
      ]
     },
     "execution_count": 41,
     "metadata": {},
     "output_type": "execute_result"
    }
   ],
   "source": [
    "neighborhoods_json = gpd.read_file('/Users/fernandoseguias/Desktop/ferseg/Proyectos/Programacion/iron_hack/project_2/data/neighborhoods.geojson')\n",
    "neighborhoods_json = neighborhoods_json.rename(columns={'neighbourhood_group':'neighborhood_group', 'neighbourhood':'neighborhood'})\n",
    "neighborhoods_json = neighborhoods_json.sort_values(by=['neighborhood_group', 'neighborhood'], ascending=True).reset_index(drop=True)\n",
    "neighborhoods_json"
   ]
  },
  {
   "cell_type": "code",
   "execution_count": 42,
   "metadata": {},
   "outputs": [
    {
     "data": {
      "text/plain": [
       "neighborhood            object\n",
       "neighborhood_group      object\n",
       "geometry              geometry\n",
       "dtype: object"
      ]
     },
     "execution_count": 42,
     "metadata": {},
     "output_type": "execute_result"
    }
   ],
   "source": [
    "neighborhoods_json.dtypes"
   ]
  },
  {
   "cell_type": "code",
   "execution_count": 43,
   "metadata": {},
   "outputs": [
    {
     "name": "stdout",
     "output_type": "stream",
     "text": [
      "<class 'geopandas.geodataframe.GeoDataFrame'>\n",
      "RangeIndex: 128 entries, 0 to 127\n",
      "Data columns (total 3 columns):\n",
      " #   Column              Non-Null Count  Dtype   \n",
      "---  ------              --------------  -----   \n",
      " 0   neighborhood        128 non-null    object  \n",
      " 1   neighborhood_group  128 non-null    object  \n",
      " 2   geometry            128 non-null    geometry\n",
      "dtypes: geometry(1), object(2)\n",
      "memory usage: 3.1+ KB\n"
     ]
    }
   ],
   "source": [
    "neighborhoods_json.info()"
   ]
  },
  {
   "cell_type": "code",
   "execution_count": 50,
   "metadata": {},
   "outputs": [
    {
     "data": {
      "text/html": [
       "<div>\n",
       "<style scoped>\n",
       "    .dataframe tbody tr th:only-of-type {\n",
       "        vertical-align: middle;\n",
       "    }\n",
       "\n",
       "    .dataframe tbody tr th {\n",
       "        vertical-align: top;\n",
       "    }\n",
       "\n",
       "    .dataframe thead th {\n",
       "        text-align: right;\n",
       "    }\n",
       "</style>\n",
       "<table border=\"1\" class=\"dataframe\">\n",
       "  <thead>\n",
       "    <tr style=\"text-align: right;\">\n",
       "      <th></th>\n",
       "      <th>count</th>\n",
       "      <th>unique</th>\n",
       "      <th>top</th>\n",
       "      <th>freq</th>\n",
       "    </tr>\n",
       "  </thead>\n",
       "  <tbody>\n",
       "    <tr>\n",
       "      <th>neighborhood</th>\n",
       "      <td>128</td>\n",
       "      <td>128</td>\n",
       "      <td>Acacias</td>\n",
       "      <td>1</td>\n",
       "    </tr>\n",
       "    <tr>\n",
       "      <th>neighborhood_group</th>\n",
       "      <td>128</td>\n",
       "      <td>21</td>\n",
       "      <td>Ciudad Lineal</td>\n",
       "      <td>9</td>\n",
       "    </tr>\n",
       "  </tbody>\n",
       "</table>\n",
       "</div>"
      ],
      "text/plain": [
       "                   count unique            top freq\n",
       "neighborhood         128    128        Acacias    1\n",
       "neighborhood_group   128     21  Ciudad Lineal    9"
      ]
     },
     "execution_count": 50,
     "metadata": {},
     "output_type": "execute_result"
    }
   ],
   "source": [
    "neighborhoods_json.describe(include='object').T"
   ]
  },
  {
   "cell_type": "code",
   "execution_count": 53,
   "metadata": {},
   "outputs": [
    {
     "data": {
      "text/plain": [
       "0"
      ]
     },
     "execution_count": 53,
     "metadata": {},
     "output_type": "execute_result"
    }
   ],
   "source": [
    "neighborhoods_json.duplicated().sum()"
   ]
  },
  {
   "cell_type": "code",
   "execution_count": 57,
   "metadata": {},
   "outputs": [
    {
     "data": {
      "text/html": [
       "<div>\n",
       "<style scoped>\n",
       "    .dataframe tbody tr th:only-of-type {\n",
       "        vertical-align: middle;\n",
       "    }\n",
       "\n",
       "    .dataframe tbody tr th {\n",
       "        vertical-align: top;\n",
       "    }\n",
       "\n",
       "    .dataframe thead th {\n",
       "        text-align: right;\n",
       "    }\n",
       "</style>\n",
       "<table border=\"1\" class=\"dataframe\">\n",
       "  <thead>\n",
       "    <tr style=\"text-align: right;\">\n",
       "      <th></th>\n",
       "      <th>missing</th>\n",
       "      <th>total</th>\n",
       "      <th>percent</th>\n",
       "    </tr>\n",
       "  </thead>\n",
       "  <tbody>\n",
       "    <tr>\n",
       "      <th>neighborhood</th>\n",
       "      <td>0</td>\n",
       "      <td>128</td>\n",
       "      <td>0.0</td>\n",
       "    </tr>\n",
       "    <tr>\n",
       "      <th>neighborhood_group</th>\n",
       "      <td>0</td>\n",
       "      <td>128</td>\n",
       "      <td>0.0</td>\n",
       "    </tr>\n",
       "    <tr>\n",
       "      <th>geometry</th>\n",
       "      <td>0</td>\n",
       "      <td>128</td>\n",
       "      <td>0.0</td>\n",
       "    </tr>\n",
       "  </tbody>\n",
       "</table>\n",
       "</div>"
      ],
      "text/plain": [
       "                    missing  total  percent\n",
       "neighborhood              0    128      0.0\n",
       "neighborhood_group        0    128      0.0\n",
       "geometry                  0    128      0.0"
      ]
     },
     "execution_count": 57,
     "metadata": {},
     "output_type": "execute_result"
    }
   ],
   "source": [
    "neighborhoods_json.stb.missing()"
   ]
  },
  {
   "cell_type": "code",
   "execution_count": 58,
   "metadata": {},
   "outputs": [
    {
     "data": {
      "image/svg+xml": "<svg xmlns=\"http://www.w3.org/2000/svg\" xmlns:xlink=\"http://www.w3.org/1999/xlink\" width=\"100.0\" height=\"100.0\" viewBox=\"-3.71543048 40.39462152 0.01680696000000026 0.012674959999998237\" preserveAspectRatio=\"xMinYMin meet\"><g transform=\"matrix(1,0,0,-1,0,80.801918)\"><g><path fill-rule=\"evenodd\" fill=\"#66cc99\" stroke=\"#555555\" stroke-width=\"0.00033613920000000517\" opacity=\"0.6\" d=\"M -3.703795,40.405207 L -3.702882,40.405073 L -3.702462,40.405078 L -3.701614,40.403955 L -3.700525,40.402589 L -3.699528,40.401304 L -3.699246,40.401043 L -3.69961,40.400549 L -3.700353,40.399742 L -3.70092,40.399045 L -3.701466,40.398445 L -3.701994,40.397948 L -3.702095,40.397865 L -3.702193,40.397783 L -3.703156,40.396791 L -3.70455,40.395244 L -3.707253,40.395905 L -3.708138,40.396119 L -3.708695,40.396287 L -3.709607,40.396562 L -3.710204,40.396811 L -3.710713,40.397024 L -3.711296,40.397341 L -3.712074,40.397901 L -3.712646,40.398366 L -3.713093,40.398754 L -3.713357,40.398969 L -3.713963,40.399356 L -3.714808,40.399678 L -3.714274,40.400902 L -3.713123,40.403331 L -3.712453,40.404758 L -3.711587,40.406674 L -3.711192,40.406572 L -3.709823,40.40634 L -3.709447,40.406287 L -3.708312,40.406079 L -3.706417,40.405688 L -3.703795,40.405207 z\" /></g></g></svg>",
      "text/plain": [
       "<shapely.geometry.multipolygon.MultiPolygon at 0x7ff1d808e0a0>"
      ]
     },
     "execution_count": 58,
     "metadata": {},
     "output_type": "execute_result"
    }
   ],
   "source": [
    "neighborhoods_json[\"geometry\"][0]"
   ]
  },
  {
   "cell_type": "code",
   "execution_count": 59,
   "metadata": {},
   "outputs": [
    {
     "name": "stdout",
     "output_type": "stream",
     "text": [
      "MULTIPOLYGON (((-3.703795 40.405207, -3.702882 40.405073, -3.702462 40.405078, -3.701614 40.403955, -3.700525 40.402589, -3.699528 40.401304, -3.699246 40.401043, -3.69961 40.400549, -3.700353 40.399742, -3.70092 40.399045, -3.701466 40.398445, -3.701994 40.397948, -3.702095 40.397865, -3.702193 40.397783, -3.703156 40.396791, -3.70455 40.395244, -3.707253 40.395905, -3.708138 40.396119, -3.708695 40.396287, -3.709607 40.396562, -3.710204 40.396811, -3.710713 40.397024, -3.711296 40.397341, -3.712074 40.397901, -3.712646 40.398366, -3.713093 40.398754, -3.713357 40.398969, -3.713963 40.399356, -3.714808 40.399678, -3.714274 40.400902, -3.713123 40.403331, -3.712453 40.404758, -3.711587 40.406674, -3.711192 40.406572, -3.709823 40.40634, -3.709447 40.406287, -3.708312 40.406079, -3.706417 40.405688, -3.703795 40.405207)))\n"
     ]
    }
   ],
   "source": [
    "print(neighborhoods_json[\"geometry\"][0])"
   ]
  }
 ],
 "metadata": {
  "interpreter": {
   "hash": "81535c40c187213d8173a98c8ffbf422147d8403865cdcdb817e05fa807ec559"
  },
  "kernelspec": {
   "display_name": "Python 3.9.7 ('base')",
   "language": "python",
   "name": "python3"
  },
  "language_info": {
   "codemirror_mode": {
    "name": "ipython",
    "version": 3
   },
   "file_extension": ".py",
   "mimetype": "text/x-python",
   "name": "python",
   "nbconvert_exporter": "python",
   "pygments_lexer": "ipython3",
   "version": "3.9.7"
  },
  "orig_nbformat": 4
 },
 "nbformat": 4,
 "nbformat_minor": 2
}
