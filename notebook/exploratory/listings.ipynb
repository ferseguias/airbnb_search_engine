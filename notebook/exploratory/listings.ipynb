{
 "cells": [
  {
   "cell_type": "code",
   "execution_count": 1,
   "metadata": {},
   "outputs": [],
   "source": [
    "import pandas as pd\n",
    "import geopandas as gpd\n",
    "import numpy as np\n",
    "import sidetable\n",
    "pd.options.display.max_columns = None"
   ]
  },
  {
   "cell_type": "code",
   "execution_count": 18,
   "metadata": {},
   "outputs": [
    {
     "data": {
      "text/html": [
       "<div>\n",
       "<style scoped>\n",
       "    .dataframe tbody tr th:only-of-type {\n",
       "        vertical-align: middle;\n",
       "    }\n",
       "\n",
       "    .dataframe tbody tr th {\n",
       "        vertical-align: top;\n",
       "    }\n",
       "\n",
       "    .dataframe thead th {\n",
       "        text-align: right;\n",
       "    }\n",
       "</style>\n",
       "<table border=\"1\" class=\"dataframe\">\n",
       "  <thead>\n",
       "    <tr style=\"text-align: right;\">\n",
       "      <th></th>\n",
       "      <th>id</th>\n",
       "      <th>listing_url</th>\n",
       "      <th>picture_url</th>\n",
       "      <th>name</th>\n",
       "      <th>description</th>\n",
       "      <th>host_id</th>\n",
       "      <th>host_since</th>\n",
       "      <th>host_is_superhost</th>\n",
       "      <th>neighbourhood_cleansed</th>\n",
       "      <th>neighbourhood_group_cleansed</th>\n",
       "      <th>latitude</th>\n",
       "      <th>longitude</th>\n",
       "      <th>room_type</th>\n",
       "      <th>accommodates</th>\n",
       "      <th>price</th>\n",
       "      <th>availability_365</th>\n",
       "      <th>number_of_reviews</th>\n",
       "      <th>review_scores_rating</th>\n",
       "    </tr>\n",
       "  </thead>\n",
       "  <tbody>\n",
       "    <tr>\n",
       "      <th>0</th>\n",
       "      <td>6369</td>\n",
       "      <td>https://www.airbnb.com/rooms/6369</td>\n",
       "      <td>https://a0.muscache.com/pictures/683224/4cc318...</td>\n",
       "      <td>Rooftop terrace room ,  ensuite bathroom</td>\n",
       "      <td>Excellent connection with the AIRPORT and EXHI...</td>\n",
       "      <td>13660</td>\n",
       "      <td>2009-04-16</td>\n",
       "      <td>f</td>\n",
       "      <td>Hispanoamérica</td>\n",
       "      <td>Chamartín</td>\n",
       "      <td>40.45724</td>\n",
       "      <td>-3.67688</td>\n",
       "      <td>Private room</td>\n",
       "      <td>2</td>\n",
       "      <td>$59.00</td>\n",
       "      <td>149</td>\n",
       "      <td>81</td>\n",
       "      <td>4.88</td>\n",
       "    </tr>\n",
       "    <tr>\n",
       "      <th>1</th>\n",
       "      <td>21853</td>\n",
       "      <td>https://www.airbnb.com/rooms/21853</td>\n",
       "      <td>https://a0.muscache.com/pictures/68483181/87bc...</td>\n",
       "      <td>Bright and airy room</td>\n",
       "      <td>We have a quiet and sunny room with a good vie...</td>\n",
       "      <td>83531</td>\n",
       "      <td>2010-02-21</td>\n",
       "      <td>f</td>\n",
       "      <td>Cármenes</td>\n",
       "      <td>Latina</td>\n",
       "      <td>40.40381</td>\n",
       "      <td>-3.74130</td>\n",
       "      <td>Private room</td>\n",
       "      <td>1</td>\n",
       "      <td>$31.00</td>\n",
       "      <td>131</td>\n",
       "      <td>33</td>\n",
       "      <td>4.58</td>\n",
       "    </tr>\n",
       "    <tr>\n",
       "      <th>2</th>\n",
       "      <td>23001</td>\n",
       "      <td>https://www.airbnb.com/rooms/23001</td>\n",
       "      <td>https://a0.muscache.com/pictures/58e6a770-509c...</td>\n",
       "      <td>Apartmento Arganzuela- Madrid Rio</td>\n",
       "      <td>Apartamento de tres dormitorios dobles, gran s...</td>\n",
       "      <td>82175</td>\n",
       "      <td>2010-02-17</td>\n",
       "      <td>f</td>\n",
       "      <td>Legazpi</td>\n",
       "      <td>Arganzuela</td>\n",
       "      <td>40.38840</td>\n",
       "      <td>-3.69511</td>\n",
       "      <td>Entire home/apt</td>\n",
       "      <td>6</td>\n",
       "      <td>$50.00</td>\n",
       "      <td>311</td>\n",
       "      <td>0</td>\n",
       "      <td>NaN</td>\n",
       "    </tr>\n",
       "  </tbody>\n",
       "</table>\n",
       "</div>"
      ],
      "text/plain": [
       "      id                         listing_url  \\\n",
       "0   6369   https://www.airbnb.com/rooms/6369   \n",
       "1  21853  https://www.airbnb.com/rooms/21853   \n",
       "2  23001  https://www.airbnb.com/rooms/23001   \n",
       "\n",
       "                                         picture_url  \\\n",
       "0  https://a0.muscache.com/pictures/683224/4cc318...   \n",
       "1  https://a0.muscache.com/pictures/68483181/87bc...   \n",
       "2  https://a0.muscache.com/pictures/58e6a770-509c...   \n",
       "\n",
       "                                       name  \\\n",
       "0  Rooftop terrace room ,  ensuite bathroom   \n",
       "1                      Bright and airy room   \n",
       "2         Apartmento Arganzuela- Madrid Rio   \n",
       "\n",
       "                                         description  host_id  host_since  \\\n",
       "0  Excellent connection with the AIRPORT and EXHI...    13660  2009-04-16   \n",
       "1  We have a quiet and sunny room with a good vie...    83531  2010-02-21   \n",
       "2  Apartamento de tres dormitorios dobles, gran s...    82175  2010-02-17   \n",
       "\n",
       "  host_is_superhost neighbourhood_cleansed neighbourhood_group_cleansed  \\\n",
       "0                 f         Hispanoamérica                    Chamartín   \n",
       "1                 f               Cármenes                       Latina   \n",
       "2                 f                Legazpi                   Arganzuela   \n",
       "\n",
       "   latitude  longitude        room_type  accommodates   price  \\\n",
       "0  40.45724   -3.67688     Private room             2  $59.00   \n",
       "1  40.40381   -3.74130     Private room             1  $31.00   \n",
       "2  40.38840   -3.69511  Entire home/apt             6  $50.00   \n",
       "\n",
       "   availability_365  number_of_reviews  review_scores_rating  \n",
       "0               149                 81                  4.88  \n",
       "1               131                 33                  4.58  \n",
       "2               311                  0                   NaN  "
      ]
     },
     "execution_count": 18,
     "metadata": {},
     "output_type": "execute_result"
    }
   ],
   "source": [
    "apartments = pd.read_csv('/Users/fernandoseguias/Desktop/ferseg/Proyectos/Programacion/iron_hack/project_2/data/listings_detailed.csv')\n",
    "apartments = apartments.loc[:,['id', 'listing_url', 'picture_url', 'name', 'description', 'host_id', \n",
    "                    'host_since', 'host_is_superhost', 'neighbourhood_cleansed', \n",
    "                    'neighbourhood_group_cleansed', 'latitude', 'longitude', 'room_type', \n",
    "                    'accommodates', 'price', 'availability_365', 'number_of_reviews', 'review_scores_rating']]\n",
    "apartments['description'] = apartments['description'].str.replace('\"','')\n",
    "apartments['name'] = apartments['name'].str.replace('\"','')\n",
    "apartments.head(3)"
   ]
  },
  {
   "cell_type": "code",
   "execution_count": 3,
   "metadata": {},
   "outputs": [
    {
     "data": {
      "text/plain": [
       "id                                int64\n",
       "listing_url                      object\n",
       "picture_url                      object\n",
       "name                             object\n",
       "description                      object\n",
       "host_id                           int64\n",
       "host_since                       object\n",
       "host_is_superhost                object\n",
       "neighbourhood_cleansed           object\n",
       "neighbourhood_group_cleansed     object\n",
       "latitude                        float64\n",
       "longitude                       float64\n",
       "room_type                        object\n",
       "accommodates                      int64\n",
       "price                            object\n",
       "availability_365                  int64\n",
       "number_of_reviews                 int64\n",
       "review_scores_rating            float64\n",
       "dtype: object"
      ]
     },
     "execution_count": 3,
     "metadata": {},
     "output_type": "execute_result"
    }
   ],
   "source": [
    "apartments.dtypes"
   ]
  },
  {
   "cell_type": "code",
   "execution_count": 4,
   "metadata": {},
   "outputs": [
    {
     "data": {
      "text/plain": [
       "Index(['id', 'listing_url', 'picture_url', 'name', 'description', 'host_id',\n",
       "       'host_since', 'host_is_superhost', 'neighbourhood_cleansed',\n",
       "       'neighbourhood_group_cleansed', 'latitude', 'longitude', 'room_type',\n",
       "       'accommodates', 'price', 'availability_365', 'number_of_reviews',\n",
       "       'review_scores_rating'],\n",
       "      dtype='object')"
      ]
     },
     "execution_count": 4,
     "metadata": {},
     "output_type": "execute_result"
    }
   ],
   "source": [
    "apartments.columns"
   ]
  },
  {
   "cell_type": "code",
   "execution_count": 5,
   "metadata": {},
   "outputs": [
    {
     "name": "stdout",
     "output_type": "stream",
     "text": [
      "<class 'pandas.core.frame.DataFrame'>\n",
      "RangeIndex: 17831 entries, 0 to 17830\n",
      "Data columns (total 18 columns):\n",
      " #   Column                        Non-Null Count  Dtype  \n",
      "---  ------                        --------------  -----  \n",
      " 0   id                            17831 non-null  int64  \n",
      " 1   listing_url                   17831 non-null  object \n",
      " 2   picture_url                   17830 non-null  object \n",
      " 3   name                          17828 non-null  object \n",
      " 4   description                   17007 non-null  object \n",
      " 5   host_id                       17831 non-null  int64  \n",
      " 6   host_since                    17823 non-null  object \n",
      " 7   host_is_superhost             17823 non-null  object \n",
      " 8   neighbourhood_cleansed        17831 non-null  object \n",
      " 9   neighbourhood_group_cleansed  17831 non-null  object \n",
      " 10  latitude                      17831 non-null  float64\n",
      " 11  longitude                     17831 non-null  float64\n",
      " 12  room_type                     17831 non-null  object \n",
      " 13  accommodates                  17831 non-null  int64  \n",
      " 14  price                         17831 non-null  object \n",
      " 15  availability_365              17831 non-null  int64  \n",
      " 16  number_of_reviews             17831 non-null  int64  \n",
      " 17  review_scores_rating          13677 non-null  float64\n",
      "dtypes: float64(3), int64(5), object(10)\n",
      "memory usage: 2.4+ MB\n"
     ]
    }
   ],
   "source": [
    "apartments.info()"
   ]
  },
  {
   "cell_type": "code",
   "execution_count": 6,
   "metadata": {},
   "outputs": [
    {
     "data": {
      "text/html": [
       "<div>\n",
       "<style scoped>\n",
       "    .dataframe tbody tr th:only-of-type {\n",
       "        vertical-align: middle;\n",
       "    }\n",
       "\n",
       "    .dataframe tbody tr th {\n",
       "        vertical-align: top;\n",
       "    }\n",
       "\n",
       "    .dataframe thead th {\n",
       "        text-align: right;\n",
       "    }\n",
       "</style>\n",
       "<table border=\"1\" class=\"dataframe\">\n",
       "  <thead>\n",
       "    <tr style=\"text-align: right;\">\n",
       "      <th></th>\n",
       "      <th>count</th>\n",
       "      <th>unique</th>\n",
       "      <th>top</th>\n",
       "      <th>freq</th>\n",
       "    </tr>\n",
       "  </thead>\n",
       "  <tbody>\n",
       "    <tr>\n",
       "      <th>listing_url</th>\n",
       "      <td>17831</td>\n",
       "      <td>17831</td>\n",
       "      <td>https://www.airbnb.com/rooms/6369</td>\n",
       "      <td>1</td>\n",
       "    </tr>\n",
       "    <tr>\n",
       "      <th>picture_url</th>\n",
       "      <td>17830</td>\n",
       "      <td>17455</td>\n",
       "      <td>https://a0.muscache.com/pictures/79f1e0f0-9491...</td>\n",
       "      <td>15</td>\n",
       "    </tr>\n",
       "    <tr>\n",
       "      <th>name</th>\n",
       "      <td>17828</td>\n",
       "      <td>17227</td>\n",
       "      <td>Madrid Center: Puerta del Sol, Tirso de Molina</td>\n",
       "      <td>18</td>\n",
       "    </tr>\n",
       "    <tr>\n",
       "      <th>description</th>\n",
       "      <td>17007</td>\n",
       "      <td>15858</td>\n",
       "      <td>Disfruta de la sencillez de este alojamiento t...</td>\n",
       "      <td>34</td>\n",
       "    </tr>\n",
       "    <tr>\n",
       "      <th>host_since</th>\n",
       "      <td>17823</td>\n",
       "      <td>3274</td>\n",
       "      <td>2020-11-30</td>\n",
       "      <td>199</td>\n",
       "    </tr>\n",
       "    <tr>\n",
       "      <th>host_is_superhost</th>\n",
       "      <td>17823</td>\n",
       "      <td>2</td>\n",
       "      <td>f</td>\n",
       "      <td>14217</td>\n",
       "    </tr>\n",
       "    <tr>\n",
       "      <th>neighbourhood_cleansed</th>\n",
       "      <td>17831</td>\n",
       "      <td>128</td>\n",
       "      <td>Embajadores</td>\n",
       "      <td>2190</td>\n",
       "    </tr>\n",
       "    <tr>\n",
       "      <th>neighbourhood_group_cleansed</th>\n",
       "      <td>17831</td>\n",
       "      <td>21</td>\n",
       "      <td>Centro</td>\n",
       "      <td>8126</td>\n",
       "    </tr>\n",
       "    <tr>\n",
       "      <th>room_type</th>\n",
       "      <td>17831</td>\n",
       "      <td>4</td>\n",
       "      <td>Entire home/apt</td>\n",
       "      <td>10846</td>\n",
       "    </tr>\n",
       "    <tr>\n",
       "      <th>price</th>\n",
       "      <td>17831</td>\n",
       "      <td>591</td>\n",
       "      <td>$25.00</td>\n",
       "      <td>408</td>\n",
       "    </tr>\n",
       "  </tbody>\n",
       "</table>\n",
       "</div>"
      ],
      "text/plain": [
       "                              count unique  \\\n",
       "listing_url                   17831  17831   \n",
       "picture_url                   17830  17455   \n",
       "name                          17828  17227   \n",
       "description                   17007  15858   \n",
       "host_since                    17823   3274   \n",
       "host_is_superhost             17823      2   \n",
       "neighbourhood_cleansed        17831    128   \n",
       "neighbourhood_group_cleansed  17831     21   \n",
       "room_type                     17831      4   \n",
       "price                         17831    591   \n",
       "\n",
       "                                                                            top  \\\n",
       "listing_url                                   https://www.airbnb.com/rooms/6369   \n",
       "picture_url                   https://a0.muscache.com/pictures/79f1e0f0-9491...   \n",
       "name                             Madrid Center: Puerta del Sol, Tirso de Molina   \n",
       "description                   Disfruta de la sencillez de este alojamiento t...   \n",
       "host_since                                                           2020-11-30   \n",
       "host_is_superhost                                                             f   \n",
       "neighbourhood_cleansed                                              Embajadores   \n",
       "neighbourhood_group_cleansed                                             Centro   \n",
       "room_type                                                       Entire home/apt   \n",
       "price                                                                    $25.00   \n",
       "\n",
       "                               freq  \n",
       "listing_url                       1  \n",
       "picture_url                      15  \n",
       "name                             18  \n",
       "description                      34  \n",
       "host_since                      199  \n",
       "host_is_superhost             14217  \n",
       "neighbourhood_cleansed         2190  \n",
       "neighbourhood_group_cleansed   8126  \n",
       "room_type                     10846  \n",
       "price                           408  "
      ]
     },
     "execution_count": 6,
     "metadata": {},
     "output_type": "execute_result"
    }
   ],
   "source": [
    "apartments.describe(include='object').T"
   ]
  },
  {
   "cell_type": "code",
   "execution_count": 7,
   "metadata": {},
   "outputs": [
    {
     "data": {
      "text/html": [
       "<div>\n",
       "<style scoped>\n",
       "    .dataframe tbody tr th:only-of-type {\n",
       "        vertical-align: middle;\n",
       "    }\n",
       "\n",
       "    .dataframe tbody tr th {\n",
       "        vertical-align: top;\n",
       "    }\n",
       "\n",
       "    .dataframe thead th {\n",
       "        text-align: right;\n",
       "    }\n",
       "</style>\n",
       "<table border=\"1\" class=\"dataframe\">\n",
       "  <thead>\n",
       "    <tr style=\"text-align: right;\">\n",
       "      <th></th>\n",
       "      <th>count</th>\n",
       "      <th>mean</th>\n",
       "      <th>std</th>\n",
       "      <th>min</th>\n",
       "      <th>25%</th>\n",
       "      <th>50%</th>\n",
       "      <th>75%</th>\n",
       "      <th>max</th>\n",
       "    </tr>\n",
       "  </thead>\n",
       "  <tbody>\n",
       "    <tr>\n",
       "      <th>id</th>\n",
       "      <td>17831.0</td>\n",
       "      <td>3.164435e+07</td>\n",
       "      <td>1.519928e+07</td>\n",
       "      <td>6369.000000</td>\n",
       "      <td>1.947884e+07</td>\n",
       "      <td>3.448713e+07</td>\n",
       "      <td>4.441193e+07</td>\n",
       "      <td>5.372922e+07</td>\n",
       "    </tr>\n",
       "    <tr>\n",
       "      <th>host_id</th>\n",
       "      <td>17831.0</td>\n",
       "      <td>1.386539e+08</td>\n",
       "      <td>1.293288e+08</td>\n",
       "      <td>7952.000000</td>\n",
       "      <td>2.652194e+07</td>\n",
       "      <td>9.901898e+07</td>\n",
       "      <td>2.317749e+08</td>\n",
       "      <td>4.350623e+08</td>\n",
       "    </tr>\n",
       "    <tr>\n",
       "      <th>latitude</th>\n",
       "      <td>17831.0</td>\n",
       "      <td>4.042100e+01</td>\n",
       "      <td>2.241219e-02</td>\n",
       "      <td>40.316761</td>\n",
       "      <td>4.040954e+01</td>\n",
       "      <td>4.041962e+01</td>\n",
       "      <td>4.042994e+01</td>\n",
       "      <td>4.053623e+01</td>\n",
       "    </tr>\n",
       "    <tr>\n",
       "      <th>longitude</th>\n",
       "      <td>17831.0</td>\n",
       "      <td>-3.694158e+00</td>\n",
       "      <td>2.817123e-02</td>\n",
       "      <td>-3.836250</td>\n",
       "      <td>-3.707620e+00</td>\n",
       "      <td>-3.701180e+00</td>\n",
       "      <td>-3.686350e+00</td>\n",
       "      <td>-3.544844e+00</td>\n",
       "    </tr>\n",
       "    <tr>\n",
       "      <th>accommodates</th>\n",
       "      <td>17831.0</td>\n",
       "      <td>3.129437e+00</td>\n",
       "      <td>1.975044e+00</td>\n",
       "      <td>0.000000</td>\n",
       "      <td>2.000000e+00</td>\n",
       "      <td>2.000000e+00</td>\n",
       "      <td>4.000000e+00</td>\n",
       "      <td>1.600000e+01</td>\n",
       "    </tr>\n",
       "    <tr>\n",
       "      <th>availability_365</th>\n",
       "      <td>17831.0</td>\n",
       "      <td>1.482445e+02</td>\n",
       "      <td>1.398480e+02</td>\n",
       "      <td>0.000000</td>\n",
       "      <td>0.000000e+00</td>\n",
       "      <td>1.040000e+02</td>\n",
       "      <td>3.080000e+02</td>\n",
       "      <td>3.650000e+02</td>\n",
       "    </tr>\n",
       "    <tr>\n",
       "      <th>number_of_reviews</th>\n",
       "      <td>17831.0</td>\n",
       "      <td>3.611026e+01</td>\n",
       "      <td>6.887503e+01</td>\n",
       "      <td>0.000000</td>\n",
       "      <td>1.000000e+00</td>\n",
       "      <td>7.000000e+00</td>\n",
       "      <td>3.800000e+01</td>\n",
       "      <td>7.670000e+02</td>\n",
       "    </tr>\n",
       "    <tr>\n",
       "      <th>review_scores_rating</th>\n",
       "      <td>13677.0</td>\n",
       "      <td>4.574656e+00</td>\n",
       "      <td>7.046924e-01</td>\n",
       "      <td>0.000000</td>\n",
       "      <td>4.500000e+00</td>\n",
       "      <td>4.750000e+00</td>\n",
       "      <td>4.930000e+00</td>\n",
       "      <td>5.000000e+00</td>\n",
       "    </tr>\n",
       "  </tbody>\n",
       "</table>\n",
       "</div>"
      ],
      "text/plain": [
       "                        count          mean           std          min  \\\n",
       "id                    17831.0  3.164435e+07  1.519928e+07  6369.000000   \n",
       "host_id               17831.0  1.386539e+08  1.293288e+08  7952.000000   \n",
       "latitude              17831.0  4.042100e+01  2.241219e-02    40.316761   \n",
       "longitude             17831.0 -3.694158e+00  2.817123e-02    -3.836250   \n",
       "accommodates          17831.0  3.129437e+00  1.975044e+00     0.000000   \n",
       "availability_365      17831.0  1.482445e+02  1.398480e+02     0.000000   \n",
       "number_of_reviews     17831.0  3.611026e+01  6.887503e+01     0.000000   \n",
       "review_scores_rating  13677.0  4.574656e+00  7.046924e-01     0.000000   \n",
       "\n",
       "                               25%           50%           75%           max  \n",
       "id                    1.947884e+07  3.448713e+07  4.441193e+07  5.372922e+07  \n",
       "host_id               2.652194e+07  9.901898e+07  2.317749e+08  4.350623e+08  \n",
       "latitude              4.040954e+01  4.041962e+01  4.042994e+01  4.053623e+01  \n",
       "longitude            -3.707620e+00 -3.701180e+00 -3.686350e+00 -3.544844e+00  \n",
       "accommodates          2.000000e+00  2.000000e+00  4.000000e+00  1.600000e+01  \n",
       "availability_365      0.000000e+00  1.040000e+02  3.080000e+02  3.650000e+02  \n",
       "number_of_reviews     1.000000e+00  7.000000e+00  3.800000e+01  7.670000e+02  \n",
       "review_scores_rating  4.500000e+00  4.750000e+00  4.930000e+00  5.000000e+00  "
      ]
     },
     "execution_count": 7,
     "metadata": {},
     "output_type": "execute_result"
    }
   ],
   "source": [
    "apartments.describe().T"
   ]
  },
  {
   "cell_type": "code",
   "execution_count": 8,
   "metadata": {},
   "outputs": [
    {
     "data": {
      "text/plain": [
       "0"
      ]
     },
     "execution_count": 8,
     "metadata": {},
     "output_type": "execute_result"
    }
   ],
   "source": [
    "apartments.duplicated().sum()"
   ]
  },
  {
   "cell_type": "code",
   "execution_count": 9,
   "metadata": {},
   "outputs": [
    {
     "data": {
      "text/html": [
       "<div>\n",
       "<style scoped>\n",
       "    .dataframe tbody tr th:only-of-type {\n",
       "        vertical-align: middle;\n",
       "    }\n",
       "\n",
       "    .dataframe tbody tr th {\n",
       "        vertical-align: top;\n",
       "    }\n",
       "\n",
       "    .dataframe thead th {\n",
       "        text-align: right;\n",
       "    }\n",
       "</style>\n",
       "<table border=\"1\" class=\"dataframe\">\n",
       "  <thead>\n",
       "    <tr style=\"text-align: right;\">\n",
       "      <th></th>\n",
       "      <th>missing</th>\n",
       "      <th>total</th>\n",
       "      <th>percent</th>\n",
       "    </tr>\n",
       "  </thead>\n",
       "  <tbody>\n",
       "    <tr>\n",
       "      <th>review_scores_rating</th>\n",
       "      <td>4154</td>\n",
       "      <td>17831</td>\n",
       "      <td>23.296506</td>\n",
       "    </tr>\n",
       "    <tr>\n",
       "      <th>description</th>\n",
       "      <td>824</td>\n",
       "      <td>17831</td>\n",
       "      <td>4.621165</td>\n",
       "    </tr>\n",
       "    <tr>\n",
       "      <th>host_since</th>\n",
       "      <td>8</td>\n",
       "      <td>17831</td>\n",
       "      <td>0.044866</td>\n",
       "    </tr>\n",
       "    <tr>\n",
       "      <th>host_is_superhost</th>\n",
       "      <td>8</td>\n",
       "      <td>17831</td>\n",
       "      <td>0.044866</td>\n",
       "    </tr>\n",
       "    <tr>\n",
       "      <th>name</th>\n",
       "      <td>3</td>\n",
       "      <td>17831</td>\n",
       "      <td>0.016825</td>\n",
       "    </tr>\n",
       "    <tr>\n",
       "      <th>picture_url</th>\n",
       "      <td>1</td>\n",
       "      <td>17831</td>\n",
       "      <td>0.005608</td>\n",
       "    </tr>\n",
       "  </tbody>\n",
       "</table>\n",
       "</div>"
      ],
      "text/plain": [
       "                      missing  total    percent\n",
       "review_scores_rating     4154  17831  23.296506\n",
       "description               824  17831   4.621165\n",
       "host_since                  8  17831   0.044866\n",
       "host_is_superhost           8  17831   0.044866\n",
       "name                        3  17831   0.016825\n",
       "picture_url                 1  17831   0.005608"
      ]
     },
     "execution_count": 9,
     "metadata": {},
     "output_type": "execute_result"
    }
   ],
   "source": [
    "missing = apartments.stb.missing()\n",
    "missing = missing.loc[missing['percent'] > 0]\n",
    "missing"
   ]
  },
  {
   "cell_type": "code",
   "execution_count": 10,
   "metadata": {},
   "outputs": [
    {
     "data": {
      "text/plain": [
       "numpy.float64"
      ]
     },
     "execution_count": 10,
     "metadata": {},
     "output_type": "execute_result"
    }
   ],
   "source": [
    "type(apartments.iloc[17830]['review_scores_rating'])"
   ]
  },
  {
   "cell_type": "code",
   "execution_count": 11,
   "metadata": {},
   "outputs": [
    {
     "data": {
      "text/plain": [
       "4154"
      ]
     },
     "execution_count": 11,
     "metadata": {},
     "output_type": "execute_result"
    }
   ],
   "source": [
    "apartments['id'].loc[apartments['number_of_reviews'] == 0].count() #numero de apartamentos que tienen 0 reviews"
   ]
  },
  {
   "cell_type": "code",
   "execution_count": 12,
   "metadata": {},
   "outputs": [
    {
     "data": {
      "text/plain": [
       "17831"
      ]
     },
     "execution_count": 12,
     "metadata": {},
     "output_type": "execute_result"
    }
   ],
   "source": [
    "id = apartments['id'].unique()\n",
    "len(id) #id to be set as index"
   ]
  },
  {
   "cell_type": "code",
   "execution_count": 13,
   "metadata": {},
   "outputs": [
    {
     "data": {
      "text/plain": [
       "array(['Private room', 'Entire home/apt', 'Shared room', 'Hotel room'],\n",
       "      dtype=object)"
      ]
     },
     "execution_count": 13,
     "metadata": {},
     "output_type": "execute_result"
    }
   ],
   "source": [
    "types = apartments['room_type'].unique() #diferentes tipos de apartamentos\n",
    "types"
   ]
  },
  {
   "cell_type": "code",
   "execution_count": 14,
   "metadata": {},
   "outputs": [
    {
     "name": "stdout",
     "output_type": "stream",
     "text": [
      "9    <b>The space</b><br />Totally remodeled modern...\n",
      "Name: description, dtype: object\n"
     ]
    }
   ],
   "source": [
    "print(apartments.loc[apartments['id'] == 47957]['description'])"
   ]
  },
  {
   "cell_type": "code",
   "execution_count": 15,
   "metadata": {},
   "outputs": [
    {
     "data": {
      "text/plain": [
       "id                                                                        1039376\n",
       "listing_url                                  https://www.airbnb.com/rooms/1039376\n",
       "picture_url                     https://a0.muscache.com/pictures/01fb305a-6b2b...\n",
       "name                                           Cozy apartment near Madrid airport\n",
       "description                     <b>The space</b><br />1 bedroom flat, 35 sq me...\n",
       "host_id                                                                   5722524\n",
       "host_since                                                             2013-04-01\n",
       "host_is_superhost                                                               f\n",
       "neighbourhood_cleansed                                 Casco Histórico de Barajas\n",
       "neighbourhood_group_cleansed                                              Barajas\n",
       "latitude                                                                 40.47479\n",
       "longitude                                                                -3.57467\n",
       "room_type                                                         Entire home/apt\n",
       "accommodates                                                                    2\n",
       "price                                                                      $47.00\n",
       "availability_365                                                              100\n",
       "number_of_reviews                                                               2\n",
       "review_scores_rating                                                          5.0\n",
       "Name: 321, dtype: object"
      ]
     },
     "execution_count": 15,
     "metadata": {},
     "output_type": "execute_result"
    }
   ],
   "source": [
    "apartments.iloc[321]"
   ]
  },
  {
   "cell_type": "code",
   "execution_count": 16,
   "metadata": {},
   "outputs": [
    {
     "data": {
      "text/html": [
       "<div>\n",
       "<style scoped>\n",
       "    .dataframe tbody tr th:only-of-type {\n",
       "        vertical-align: middle;\n",
       "    }\n",
       "\n",
       "    .dataframe tbody tr th {\n",
       "        vertical-align: top;\n",
       "    }\n",
       "\n",
       "    .dataframe thead th {\n",
       "        text-align: right;\n",
       "    }\n",
       "</style>\n",
       "<table border=\"1\" class=\"dataframe\">\n",
       "  <thead>\n",
       "    <tr style=\"text-align: right;\">\n",
       "      <th></th>\n",
       "      <th>id</th>\n",
       "      <th>listing_url</th>\n",
       "      <th>picture_url</th>\n",
       "      <th>name</th>\n",
       "      <th>description</th>\n",
       "      <th>host_id</th>\n",
       "      <th>host_since</th>\n",
       "      <th>host_is_superhost</th>\n",
       "      <th>neighbourhood_cleansed</th>\n",
       "      <th>neighbourhood_group_cleansed</th>\n",
       "      <th>latitude</th>\n",
       "      <th>longitude</th>\n",
       "      <th>room_type</th>\n",
       "      <th>accommodates</th>\n",
       "      <th>price</th>\n",
       "      <th>availability_365</th>\n",
       "      <th>number_of_reviews</th>\n",
       "      <th>review_scores_rating</th>\n",
       "    </tr>\n",
       "  </thead>\n",
       "  <tbody>\n",
       "    <tr>\n",
       "      <th>2</th>\n",
       "      <td>23001</td>\n",
       "      <td>https://www.airbnb.com/rooms/23001</td>\n",
       "      <td>https://a0.muscache.com/pictures/58e6a770-509c...</td>\n",
       "      <td>Apartmento Arganzuela- Madrid Rio</td>\n",
       "      <td>Apartamento de tres dormitorios dobles, gran s...</td>\n",
       "      <td>82175</td>\n",
       "      <td>2010-02-17</td>\n",
       "      <td>f</td>\n",
       "      <td>Legazpi</td>\n",
       "      <td>Arganzuela</td>\n",
       "      <td>40.3884</td>\n",
       "      <td>-3.69511</td>\n",
       "      <td>Entire home/apt</td>\n",
       "      <td>6</td>\n",
       "      <td>$50.00</td>\n",
       "      <td>311</td>\n",
       "      <td>0</td>\n",
       "      <td>NaN</td>\n",
       "    </tr>\n",
       "  </tbody>\n",
       "</table>\n",
       "</div>"
      ],
      "text/plain": [
       "      id                         listing_url  \\\n",
       "2  23001  https://www.airbnb.com/rooms/23001   \n",
       "\n",
       "                                         picture_url  \\\n",
       "2  https://a0.muscache.com/pictures/58e6a770-509c...   \n",
       "\n",
       "                                name  \\\n",
       "2  Apartmento Arganzuela- Madrid Rio   \n",
       "\n",
       "                                         description  host_id  host_since  \\\n",
       "2  Apartamento de tres dormitorios dobles, gran s...    82175  2010-02-17   \n",
       "\n",
       "  host_is_superhost neighbourhood_cleansed neighbourhood_group_cleansed  \\\n",
       "2                 f                Legazpi                   Arganzuela   \n",
       "\n",
       "   latitude  longitude        room_type  accommodates   price  \\\n",
       "2   40.3884   -3.69511  Entire home/apt             6  $50.00   \n",
       "\n",
       "   availability_365  number_of_reviews  review_scores_rating  \n",
       "2               311                  0                   NaN  "
      ]
     },
     "execution_count": 16,
     "metadata": {},
     "output_type": "execute_result"
    }
   ],
   "source": [
    "apartments.loc[apartments['id'] == 23001]"
   ]
  },
  {
   "cell_type": "code",
   "execution_count": 17,
   "metadata": {},
   "outputs": [
    {
     "data": {
      "text/plain": [
       "\"3 mins to the metro station. 3 stops to city center (plaza de España, ópera). Next to Casa de campo, the biggest park of Madrid. Amusement park (parque de atracciones) 5 mins walking distance.<br /><br /><b>Guest access</b><br />You will have a big size bedroom, a confortable queen size bed(160*200). You can use the  built-in closet, there's a full length dressing mirror, a desk and a piano if you want to play some music 🎶<br /><br />There's a comfortable leather sofa in the salon and a 49 Panasonic TV, with Netflix and Amazon prime.<br /><br /><b>Other things to note</b><br />I have a small dog named Mochi, she is a bichón frisé, very friendly, curious and love to play balls. You can enjoy your stay with her companion.\""
      ]
     },
     "execution_count": 17,
     "metadata": {},
     "output_type": "execute_result"
    }
   ],
   "source": [
    "apartments.iloc[931][\"description\"]"
   ]
  },
  {
   "cell_type": "code",
   "execution_count": null,
   "metadata": {},
   "outputs": [],
   "source": []
  }
 ],
 "metadata": {
  "interpreter": {
   "hash": "81535c40c187213d8173a98c8ffbf422147d8403865cdcdb817e05fa807ec559"
  },
  "kernelspec": {
   "display_name": "Python 3.9.7 ('base')",
   "language": "python",
   "name": "python3"
  },
  "language_info": {
   "codemirror_mode": {
    "name": "ipython",
    "version": 3
   },
   "file_extension": ".py",
   "mimetype": "text/x-python",
   "name": "python",
   "nbconvert_exporter": "python",
   "pygments_lexer": "ipython3",
   "version": "3.9.7"
  },
  "orig_nbformat": 4
 },
 "nbformat": 4,
 "nbformat_minor": 2
}
